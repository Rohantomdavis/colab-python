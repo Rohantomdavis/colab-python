{
  "nbformat": 4,
  "nbformat_minor": 0,
  "metadata": {
    "colab": {
      "provenance": []
    },
    "kernelspec": {
      "name": "python3",
      "display_name": "Python 3"
    },
    "language_info": {
      "name": "python"
    }
  },
  "cells": [
    {
      "cell_type": "code",
      "execution_count": 1,
      "metadata": {
        "colab": {
          "base_uri": "https://localhost:8080/"
        },
        "id": "BFRaFDZVszkP",
        "outputId": "5997e8c6-1780-4c3c-e469-880755714446"
      },
      "outputs": [
        {
          "output_type": "execute_result",
          "data": {
            "text/plain": [
              "15"
            ]
          },
          "metadata": {},
          "execution_count": 1
        }
      ],
      "source": [
        "x=\"rohan tom davis\"\n",
        "len(x)"
      ]
    },
    {
      "cell_type": "code",
      "source": [
        "x=[\"john\",\"mary\",\"david\",\"adam\"]\n",
        "print(x)\n",
        "type(x)"
      ],
      "metadata": {
        "colab": {
          "base_uri": "https://localhost:8080/"
        },
        "id": "XgYlu9TNutIc",
        "outputId": "fdcc02c6-d8f7-4f19-ce25-4f408313e079"
      },
      "execution_count": 2,
      "outputs": [
        {
          "output_type": "stream",
          "name": "stdout",
          "text": [
            "['john', 'mary', 'david', 'adam']\n"
          ]
        },
        {
          "output_type": "execute_result",
          "data": {
            "text/plain": [
              "list"
            ]
          },
          "metadata": {},
          "execution_count": 2
        }
      ]
    },
    {
      "cell_type": "code",
      "source": [
        "x=[\"9096\",\"rohan\",'03-07-2003','19',\"edapally\"]"
      ],
      "metadata": {
        "id": "dbnsMmoqvmJn"
      },
      "execution_count": 5,
      "outputs": []
    },
    {
      "cell_type": "code",
      "source": [
        "print(x)\n",
        "type(x)"
      ],
      "metadata": {
        "colab": {
          "base_uri": "https://localhost:8080/"
        },
        "id": "swVc-e1MwLqJ",
        "outputId": "b071d075-bf57-44de-d172-d26d0368c78e"
      },
      "execution_count": 7,
      "outputs": [
        {
          "output_type": "stream",
          "name": "stdout",
          "text": [
            "['9096', 'rohan', '03-07-2003', '19', 'edapally']\n"
          ]
        },
        {
          "output_type": "execute_result",
          "data": {
            "text/plain": [
              "list"
            ]
          },
          "metadata": {},
          "execution_count": 7
        }
      ]
    },
    {
      "cell_type": "code",
      "source": [
        "x[0]"
      ],
      "metadata": {
        "colab": {
          "base_uri": "https://localhost:8080/"
        },
        "id": "rPdC2vcWwNH5",
        "outputId": "0ff1ff15-735b-413e-c699-9a229d815e17"
      },
      "execution_count": 13,
      "outputs": [
        {
          "output_type": "execute_result",
          "data": {
            "text/plain": [
              "0"
            ]
          },
          "metadata": {},
          "execution_count": 13
        }
      ]
    },
    {
      "cell_type": "code",
      "source": [
        "print(x)"
      ],
      "metadata": {
        "colab": {
          "base_uri": "https://localhost:8080/"
        },
        "id": "Is56XSlGw7eE",
        "outputId": "06662678-120f-4f8e-c853-677d5398e029"
      },
      "execution_count": 14,
      "outputs": [
        {
          "output_type": "stream",
          "name": "stdout",
          "text": [
            "[0]\n"
          ]
        }
      ]
    },
    {
      "cell_type": "code",
      "source": [
        "print(x[-1])"
      ],
      "metadata": {
        "colab": {
          "base_uri": "https://localhost:8080/"
        },
        "id": "w8kGSbrgw83k",
        "outputId": "f0bfc7a3-f5d1-42ab-887b-cb7ba9a5bf82"
      },
      "execution_count": 11,
      "outputs": [
        {
          "output_type": "stream",
          "name": "stdout",
          "text": [
            "0\n"
          ]
        }
      ]
    },
    {
      "cell_type": "code",
      "source": [
        "b=[8,4,5,6,1,7,5,6,2,9]\n",
        "print(b)"
      ],
      "metadata": {
        "colab": {
          "base_uri": "https://localhost:8080/"
        },
        "id": "B-KbT6rMxd6V",
        "outputId": "e5fbb0d7-3db7-4582-aed2-7cac4b233f97"
      },
      "execution_count": 15,
      "outputs": [
        {
          "output_type": "stream",
          "name": "stdout",
          "text": [
            "[8, 4, 5, 6, 1, 7, 5, 6, 2, 9]\n"
          ]
        }
      ]
    },
    {
      "cell_type": "code",
      "source": [
        "b[0:1]"
      ],
      "metadata": {
        "colab": {
          "base_uri": "https://localhost:8080/"
        },
        "id": "cj1fvKh1xzUF",
        "outputId": "e1deeded-130c-4700-9c5a-ce899c99d7c1"
      },
      "execution_count": 17,
      "outputs": [
        {
          "output_type": "execute_result",
          "data": {
            "text/plain": [
              "[8]"
            ]
          },
          "metadata": {},
          "execution_count": 17
        }
      ]
    },
    {
      "cell_type": "code",
      "source": [
        "b[0:5]"
      ],
      "metadata": {
        "colab": {
          "base_uri": "https://localhost:8080/"
        },
        "id": "vyBqdvN7yWjL",
        "outputId": "cd11bb26-64d1-4002-cacb-35b45ca5ae7c"
      },
      "execution_count": 18,
      "outputs": [
        {
          "output_type": "execute_result",
          "data": {
            "text/plain": [
              "[8, 4, 5, 6, 1]"
            ]
          },
          "metadata": {},
          "execution_count": 18
        }
      ]
    },
    {
      "cell_type": "code",
      "source": [
        "b[-3:]"
      ],
      "metadata": {
        "colab": {
          "base_uri": "https://localhost:8080/"
        },
        "id": "3keBx3gzygpz",
        "outputId": "758712a1-ae4d-412c-b2ec-9406f104a618"
      },
      "execution_count": 24,
      "outputs": [
        {
          "output_type": "execute_result",
          "data": {
            "text/plain": [
              "[6, 2, 9]"
            ]
          },
          "metadata": {},
          "execution_count": 24
        }
      ]
    },
    {
      "cell_type": "code",
      "source": [
        "b[7:]"
      ],
      "metadata": {
        "colab": {
          "base_uri": "https://localhost:8080/"
        },
        "id": "oX0HIwf8yrXF",
        "outputId": "e98f2565-1388-4aa5-9529-2e69642401d6"
      },
      "execution_count": 25,
      "outputs": [
        {
          "output_type": "execute_result",
          "data": {
            "text/plain": [
              "[6, 2, 9]"
            ]
          },
          "metadata": {},
          "execution_count": 25
        }
      ]
    },
    {
      "cell_type": "code",
      "source": [
        "x=[8,4,5,6,1,7,5,6,2,9]\n",
        "x[0]=4"
      ],
      "metadata": {
        "id": "hLlY2cDY0OYR"
      },
      "execution_count": 26,
      "outputs": []
    },
    {
      "cell_type": "code",
      "source": [
        "print(x)"
      ],
      "metadata": {
        "colab": {
          "base_uri": "https://localhost:8080/"
        },
        "id": "m2qQs3VY0mMH",
        "outputId": "1914431b-8892-4fa7-8b02-d437fc2fed31"
      },
      "execution_count": 27,
      "outputs": [
        {
          "output_type": "stream",
          "name": "stdout",
          "text": [
            "[4, 4, 5, 6, 1, 7, 5, 6, 2, 9]\n"
          ]
        }
      ]
    },
    {
      "cell_type": "code",
      "source": [
        "x=[\"9096\",\"rohan\",'03-07-2003','19',\"edapally\"]\n",
        "x[4]=\"rajagiri\"\n",
        "print(x)"
      ],
      "metadata": {
        "colab": {
          "base_uri": "https://localhost:8080/"
        },
        "id": "UGiB3XIP0nd_",
        "outputId": "aad87d10-b76c-4dbc-e313-f2fee5b5917e"
      },
      "execution_count": 30,
      "outputs": [
        {
          "output_type": "stream",
          "name": "stdout",
          "text": [
            "['9096', 'rohan', '03-07-2003', '19', 'rajagiri']\n"
          ]
        }
      ]
    },
    {
      "cell_type": "code",
      "source": [
        "b.append(69)\n",
        "print(b)"
      ],
      "metadata": {
        "colab": {
          "base_uri": "https://localhost:8080/"
        },
        "id": "PF-hGoOL1YrZ",
        "outputId": "8630cf5e-1758-4406-f90f-9e9a15c37e31"
      },
      "execution_count": 32,
      "outputs": [
        {
          "output_type": "stream",
          "name": "stdout",
          "text": [
            "[8, 4, 5, 6, 1, 7, 5, 6, 2, 9, 69]\n"
          ]
        }
      ]
    },
    {
      "cell_type": "code",
      "source": [
        "s=[]\n",
        "for n in range(5):\n",
        "  n=input(\"enter a name:\")\n",
        "  s.append(n)\n",
        "  print(s)"
      ],
      "metadata": {
        "colab": {
          "base_uri": "https://localhost:8080/"
        },
        "id": "MrlGVVYe3fR0",
        "outputId": "0e1d7d2e-0d19-4ffa-b792-8884d423d692"
      },
      "execution_count": 37,
      "outputs": [
        {
          "output_type": "stream",
          "name": "stdout",
          "text": [
            "enter a name:rohan\n",
            "['rohan']\n",
            "enter a name:tom\n",
            "['rohan', 'tom']\n",
            "enter a name:davis\n",
            "['rohan', 'tom', 'davis']\n",
            "enter a name:plakkal\n",
            "['rohan', 'tom', 'davis', 'plakkal']\n",
            "enter a name:pallivathukal\n",
            "['rohan', 'tom', 'davis', 'plakkal', 'pallivathukal']\n"
          ]
        }
      ]
    },
    {
      "cell_type": "code",
      "source": [
        "c=0\n",
        "s=[]\n",
        "while c<4:\n",
        "  name=input(\"enter a name:\")\n",
        "  s.append(name)\n",
        "  c=c+1\n",
        "  print(s)"
      ],
      "metadata": {
        "colab": {
          "base_uri": "https://localhost:8080/"
        },
        "id": "i0A4_std4Dld",
        "outputId": "238ebced-0860-45f1-80d5-6173bbb281ee"
      },
      "execution_count": 40,
      "outputs": [
        {
          "output_type": "stream",
          "name": "stdout",
          "text": [
            "enter a name:rohan\n",
            "['rohan']\n",
            "enter a name:tom\n",
            "['rohan', 'tom']\n",
            "enter a name:davis\n",
            "['rohan', 'tom', 'davis']\n",
            "enter a name:plakklal\n",
            "['rohan', 'tom', 'davis', 'plakklal']\n"
          ]
        }
      ]
    },
    {
      "cell_type": "code",
      "source": [
        "x=[1,5,2,3,4,8,6,3,1,10]\n",
        "y=x.copy()\n",
        "print(y)"
      ],
      "metadata": {
        "colab": {
          "base_uri": "https://localhost:8080/"
        },
        "id": "ykpPOPTK5w5j",
        "outputId": "1ff40f08-0c95-48d3-da14-c1be2921fc2b"
      },
      "execution_count": 42,
      "outputs": [
        {
          "output_type": "stream",
          "name": "stdout",
          "text": [
            "[1, 5, 2, 3, 4, 8, 6, 3, 1, 10]\n"
          ]
        }
      ]
    },
    {
      "cell_type": "code",
      "source": [
        "x=[1,2,3,4,5]\n",
        "y=[6,7,8,9,10]\n",
        "x.extend(y)\n",
        "print(x)"
      ],
      "metadata": {
        "colab": {
          "base_uri": "https://localhost:8080/"
        },
        "id": "Fqu1IGzQ9T3i",
        "outputId": "197834e2-25c4-410c-be46-52d6b7e78bc1"
      },
      "execution_count": 43,
      "outputs": [
        {
          "output_type": "stream",
          "name": "stdout",
          "text": [
            "[1, 2, 3, 4, 5, 6, 7, 8, 9, 10]\n"
          ]
        }
      ]
    },
    {
      "cell_type": "code",
      "source": [
        "x=[1,2,3,5,5,6,7,8,9,10]\n",
        "x.count(5)"
      ],
      "metadata": {
        "colab": {
          "base_uri": "https://localhost:8080/"
        },
        "id": "OJKzhHoZ-a-X",
        "outputId": "efce4915-0680-4fca-f3ad-968970829c6a"
      },
      "execution_count": 49,
      "outputs": [
        {
          "output_type": "execute_result",
          "data": {
            "text/plain": [
              "2"
            ]
          },
          "metadata": {},
          "execution_count": 49
        }
      ]
    },
    {
      "cell_type": "code",
      "source": [
        "x=['jeswin','sourav','antony','noel']\n",
        "x[1:3]=['navned','joe']\n",
        "print(x)"
      ],
      "metadata": {
        "colab": {
          "base_uri": "https://localhost:8080/"
        },
        "id": "BwlMRU5q-7d3",
        "outputId": "531ebf53-4712-41fa-8ac9-9f91c1a55b4a"
      },
      "execution_count": 50,
      "outputs": [
        {
          "output_type": "stream",
          "name": "stdout",
          "text": [
            "['jeswin', 'navned', 'joe', 'noel']\n"
          ]
        }
      ]
    },
    {
      "cell_type": "code",
      "source": [
        "x=['jeswin','sourav','antony','noel']\n",
        "x.insert(2,\"rohan\")\n",
        "print(x)"
      ],
      "metadata": {
        "colab": {
          "base_uri": "https://localhost:8080/"
        },
        "id": "OSzOl-ufAf9j",
        "outputId": "f76318f6-1d5f-4b63-f881-e2b8338f0e6d"
      },
      "execution_count": 51,
      "outputs": [
        {
          "output_type": "stream",
          "name": "stdout",
          "text": [
            "['jeswin', 'sourav', 'rohan', 'antony', 'noel']\n"
          ]
        }
      ]
    },
    {
      "cell_type": "code",
      "source": [
        "x=['jeswin','sourav','antony','noel']\n",
        "x.remove('noel')\n",
        "print(x)"
      ],
      "metadata": {
        "colab": {
          "base_uri": "https://localhost:8080/"
        },
        "id": "neayFnD4BVY2",
        "outputId": "cf6d1fc8-4a90-4ac2-a3d9-dc3de253ac32"
      },
      "execution_count": 54,
      "outputs": [
        {
          "output_type": "stream",
          "name": "stdout",
          "text": [
            "['jeswin', 'sourav', 'antony']\n"
          ]
        }
      ]
    },
    {
      "cell_type": "code",
      "source": [
        "del x[0]\n",
        "print(x)"
      ],
      "metadata": {
        "colab": {
          "base_uri": "https://localhost:8080/"
        },
        "id": "_VynxmEWCSAs",
        "outputId": "fee3d156-94e0-4715-bd61-9ca3193008b8"
      },
      "execution_count": 55,
      "outputs": [
        {
          "output_type": "stream",
          "name": "stdout",
          "text": [
            "['sourav', 'antony']\n"
          ]
        }
      ]
    },
    {
      "cell_type": "code",
      "source": [
        "del x[-1]\n",
        "print(x)"
      ],
      "metadata": {
        "colab": {
          "base_uri": "https://localhost:8080/"
        },
        "id": "Jnb8ABP7DC6r",
        "outputId": "c7b29ffd-ca14-4d0e-c5c6-16d1003bc0c1"
      },
      "execution_count": 56,
      "outputs": [
        {
          "output_type": "stream",
          "name": "stdout",
          "text": [
            "['sourav']\n"
          ]
        }
      ]
    },
    {
      "cell_type": "code",
      "source": [
        "x=['jeswin','sourav','antony','noel']\n",
        "del x[0:2]\n",
        "print(x)"
      ],
      "metadata": {
        "colab": {
          "base_uri": "https://localhost:8080/"
        },
        "id": "PkLiKr2xDOlB",
        "outputId": "5000c08d-9785-4fec-bfcc-695f2b2005b2"
      },
      "execution_count": 59,
      "outputs": [
        {
          "output_type": "stream",
          "name": "stdout",
          "text": [
            "['antony', 'noel']\n"
          ]
        }
      ]
    },
    {
      "cell_type": "code",
      "source": [],
      "metadata": {
        "id": "YRPakRWXDeG4"
      },
      "execution_count": null,
      "outputs": []
    }
  ]
}