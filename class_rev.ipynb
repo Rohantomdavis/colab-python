{
  "nbformat": 4,
  "nbformat_minor": 0,
  "metadata": {
    "colab": {
      "provenance": []
    },
    "kernelspec": {
      "name": "python3",
      "display_name": "Python 3"
    },
    "language_info": {
      "name": "python"
    }
  },
  "cells": [
    {
      "cell_type": "code",
      "execution_count": 5,
      "metadata": {
        "id": "P8zhzeVVMypt"
      },
      "outputs": [],
      "source": [
        "def rohan():\n",
        "  print(\"sourav is bad boy\")"
      ]
    },
    {
      "cell_type": "code",
      "source": [
        "rohan()"
      ],
      "metadata": {
        "colab": {
          "base_uri": "https://localhost:8080/"
        },
        "id": "Ltiw8WpyPgTh",
        "outputId": "24d08ba8-bd24-4d18-c700-ab2c2fa16e45"
      },
      "execution_count": 6,
      "outputs": [
        {
          "output_type": "stream",
          "name": "stdout",
          "text": [
            "sourav is bad boy\n"
          ]
        }
      ]
    },
    {
      "cell_type": "code",
      "source": [
        "def rohan():\n",
        "  print(\"your number is \",9876543210)"
      ],
      "metadata": {
        "id": "6uWv5SGsPkdv"
      },
      "execution_count": 8,
      "outputs": []
    },
    {
      "cell_type": "code",
      "source": [
        "rohan()"
      ],
      "metadata": {
        "colab": {
          "base_uri": "https://localhost:8080/"
        },
        "id": "dL4KGFl_Qso3",
        "outputId": "cd8b57f2-44b3-408e-895a-0aa251309f89"
      },
      "execution_count": 9,
      "outputs": [
        {
          "output_type": "stream",
          "name": "stdout",
          "text": [
            "your number is  9876543210\n"
          ]
        }
      ]
    },
    {
      "cell_type": "code",
      "source": [
        "def rohan():\n",
        "  x=int(input(\"enter the roll no\"))\n",
        "  print(\"your roll no is\",x)"
      ],
      "metadata": {
        "id": "Nda9jL_PQ0AH"
      },
      "execution_count": 10,
      "outputs": []
    },
    {
      "cell_type": "code",
      "source": [
        "rohan()"
      ],
      "metadata": {
        "colab": {
          "base_uri": "https://localhost:8080/"
        },
        "id": "qAr3mpPzREDg",
        "outputId": "401c7493-1466-44dd-e614-2f7f83769909"
      },
      "execution_count": 11,
      "outputs": [
        {
          "output_type": "stream",
          "name": "stdout",
          "text": [
            "enter the roll no42\n",
            "your roll no is 42\n"
          ]
        }
      ]
    },
    {
      "cell_type": "code",
      "source": [
        "def details(n,e,p,r):\n",
        "  print(\"your name\",n)\n",
        "  print(\"your email\",e)\n",
        "  print(\"your place\",p)\n",
        "  print(\"your roll no\",r)\n"
      ],
      "metadata": {
        "id": "7YCAacgjRHTP"
      },
      "execution_count": 14,
      "outputs": []
    },
    {
      "cell_type": "code",
      "source": [
        "n=input(\"enter your name:\")\n",
        "e=input(\"enter your email:\")\n",
        "p=input(\"enter your place:\")\n",
        "r=input(\"enter your roll no:\")"
      ],
      "metadata": {
        "colab": {
          "base_uri": "https://localhost:8080/"
        },
        "id": "qDgloMxAT8lh",
        "outputId": "80ce1eca-a5e2-4cc0-ba81-e7da28a07f96"
      },
      "execution_count": 15,
      "outputs": [
        {
          "name": "stdout",
          "output_type": "stream",
          "text": [
            "enter your name:rohan\n",
            "enter your email:roha@gmail\n",
            "enter your place:edapally\n",
            "enter your roll no:45\n"
          ]
        }
      ]
    },
    {
      "cell_type": "code",
      "source": [
        "details(n,e,p,r)"
      ],
      "metadata": {
        "colab": {
          "base_uri": "https://localhost:8080/"
        },
        "id": "yTUq_7gTTZTJ",
        "outputId": "6bd0d93a-6bdb-4ea6-b5ea-0e89e4a70a91"
      },
      "execution_count": 18,
      "outputs": [
        {
          "output_type": "stream",
          "name": "stdout",
          "text": [
            "your name rohan\n",
            "your email roha@gmail\n",
            "your place edapally\n",
            "your roll no 45\n"
          ]
        }
      ]
    },
    {
      "cell_type": "code",
      "source": [
        "def name(x):\n",
        "  print(\"your first name is\",x[0])"
      ],
      "metadata": {
        "id": "ZWOjmNE5aHoo"
      },
      "execution_count": 22,
      "outputs": []
    },
    {
      "cell_type": "code",
      "source": [
        "def name2(x):\n",
        "  print('your second name is',x[1])"
      ],
      "metadata": {
        "id": "aaRkSvwkaYtp"
      },
      "execution_count": 23,
      "outputs": []
    },
    {
      "cell_type": "code",
      "source": [
        "na=input(\"enter your name\")\n",
        "x=na.split(\" \")\n",
        "name(x)\n",
        "name2(x)"
      ],
      "metadata": {
        "colab": {
          "base_uri": "https://localhost:8080/"
        },
        "id": "yRWgOSgoTbDA",
        "outputId": "2e5d1a41-8122-453c-db07-34ee257eeb5b"
      },
      "execution_count": 24,
      "outputs": [
        {
          "output_type": "stream",
          "name": "stdout",
          "text": [
            "enter your namerohan tom\n",
            "your first name is rohan\n",
            "your second name is tom\n"
          ]
        }
      ]
    },
    {
      "cell_type": "code",
      "source": [
        "def swap(n,n1):\n",
        "  temp=n\n",
        "  n=n1\n",
        "  n1=temp\n",
        "  print(\"swap number is:\",n)\n",
        "  print(\"swap number is:\",n1)"
      ],
      "metadata": {
        "id": "tT57B9b5agrl"
      },
      "execution_count": 30,
      "outputs": []
    },
    {
      "cell_type": "code",
      "source": [
        "n=int(input(\"enter a number\"))\n",
        "n1=int(input(\"enter next number\"))"
      ],
      "metadata": {
        "colab": {
          "base_uri": "https://localhost:8080/"
        },
        "id": "y8oQZMmLdDcg",
        "outputId": "906aff04-0e1b-456a-cdeb-6146c2f30351"
      },
      "execution_count": 31,
      "outputs": [
        {
          "name": "stdout",
          "output_type": "stream",
          "text": [
            "enter a number30\n",
            "enter next number70\n"
          ]
        }
      ]
    },
    {
      "cell_type": "code",
      "source": [
        "swap(n,n1)"
      ],
      "metadata": {
        "colab": {
          "base_uri": "https://localhost:8080/"
        },
        "id": "utegEPVkdMx1",
        "outputId": "a1f8f20c-d9fa-45cb-a914-dc7dcdc1d0c9"
      },
      "execution_count": 32,
      "outputs": [
        {
          "output_type": "stream",
          "name": "stdout",
          "text": [
            "swap number is: 70\n",
            "swap number is: 30\n"
          ]
        }
      ]
    },
    {
      "cell_type": "code",
      "source": [],
      "metadata": {
        "id": "yQzku2aeddgl"
      },
      "execution_count": null,
      "outputs": []
    }
  ]
}