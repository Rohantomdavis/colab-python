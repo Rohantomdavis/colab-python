{
  "nbformat": 4,
  "nbformat_minor": 0,
  "metadata": {
    "colab": {
      "provenance": []
    },
    "kernelspec": {
      "name": "python3",
      "display_name": "Python 3"
    },
    "language_info": {
      "name": "python"
    }
  },
  "cells": [
    {
      "cell_type": "code",
      "execution_count": 3,
      "metadata": {
        "id": "sVgyfBSgZh6N"
      },
      "outputs": [],
      "source": [
        "x=[5,6,7,8,9,1,0,2,3,4,6,7,6,2]\n",
        "def total(x):\n",
        "  print(sum(x))"
      ]
    },
    {
      "cell_type": "code",
      "source": [
        "total(x)"
      ],
      "metadata": {
        "colab": {
          "base_uri": "https://localhost:8080/"
        },
        "id": "9AxTGFlWaY7r",
        "outputId": "045482dc-4c03-4327-f1dd-328fadf595f0"
      },
      "execution_count": 5,
      "outputs": [
        {
          "output_type": "stream",
          "name": "stdout",
          "text": [
            "66\n"
          ]
        }
      ]
    },
    {
      "cell_type": "code",
      "source": [
        "\n",
        "def eve(x):\n",
        "  e=[]\n",
        "  for i in x:\n",
        "    if i%2==0:\n",
        "      e.append(i)\n",
        "  print(\"even nos are\",e)\n",
        "\n",
        "def odd(x):\n",
        "  od=[]\n",
        "  for i in x:\n",
        "    if i%2!=0:\n",
        "      od.append(i)\n",
        "  print(\"odd nos are\",od)"
      ],
      "metadata": {
        "id": "QGXz22YbajIw"
      },
      "execution_count": 14,
      "outputs": []
    },
    {
      "cell_type": "code",
      "source": [
        "x=[5,6,7,8,9,1,0,2,3,4,6,7,6,2]\n",
        "eve(x)\n",
        "odd(x)"
      ],
      "metadata": {
        "colab": {
          "base_uri": "https://localhost:8080/"
        },
        "id": "R5twY3WBcBTn",
        "outputId": "0aa31cdf-b789-4a7f-c8c1-e584bedfea39"
      },
      "execution_count": 15,
      "outputs": [
        {
          "output_type": "stream",
          "name": "stdout",
          "text": [
            "even nos are [6, 8, 0, 2, 4, 6, 6, 2]\n",
            "odd nos are [5, 7, 9, 1, 3, 7]\n"
          ]
        }
      ]
    },
    {
      "cell_type": "code",
      "source": [
        "d=input(\"enter the text\")\n",
        "print(d)"
      ],
      "metadata": {
        "colab": {
          "base_uri": "https://localhost:8080/"
        },
        "id": "62TIv3C8e8kb",
        "outputId": "5bb3b836-9dfc-4882-c8dc-2923d73c0c7a"
      },
      "execution_count": 30,
      "outputs": [
        {
          "output_type": "stream",
          "name": "stdout",
          "text": [
            "enter the textPython is a high level,general purpose programming language.\n",
            "Python is a high level,general purpose programming language.\n"
          ]
        }
      ]
    },
    {
      "cell_type": "code",
      "source": [
        "def vowel(d): \n",
        "  f=d.replace(\"a\",\" \")\n",
        "  f=d.replace(\"e\",\" \")\n",
        "  print(f)"
      ],
      "metadata": {
        "id": "vPyG-1DllB8W"
      },
      "execution_count": 33,
      "outputs": []
    },
    {
      "cell_type": "code",
      "source": [
        "vowel(d)"
      ],
      "metadata": {
        "colab": {
          "base_uri": "https://localhost:8080/"
        },
        "id": "POOTTSucl1G8",
        "outputId": "3a94eb02-df9b-4e1a-e2e0-08d18fed973b"
      },
      "execution_count": 34,
      "outputs": [
        {
          "output_type": "stream",
          "name": "stdout",
          "text": [
            "Python is a high l v l,g n ral purpos  programming languag .\n"
          ]
        }
      ]
    },
    {
      "cell_type": "code",
      "source": [
        "x = \"Python is a high-level, general-purpose programming language\"\n",
        "\n",
        "vowels = ['a', 'e', 'i', 'o', 'u', 'A', 'E', 'I', 'O', 'U']\n",
        "result = \"\"\n",
        "\n",
        "for i in range(len(string)):\n",
        "    if x[i] not in vowels:\n",
        "        result = result + x[i]\n",
        "\n",
        "print(\"\\nAfter removing Vowels: \", result)"
      ],
      "metadata": {
        "colab": {
          "base_uri": "https://localhost:8080/"
        },
        "id": "sXJ9dPYCrU3E",
        "outputId": "3ca075af-c1aa-410c-bd81-f46b06163ce6"
      },
      "execution_count": 38,
      "outputs": [
        {
          "output_type": "stream",
          "name": "stdout",
          "text": [
            "\n",
            "After removing Vowels:  Pythn s  hgh-lvl, gnrl-prps prgrmmng lngg\n"
          ]
        }
      ]
    },
    {
      "cell_type": "code",
      "source": [],
      "metadata": {
        "id": "5yMsWr_1rqp8"
      },
      "execution_count": null,
      "outputs": []
    }
  ]
}