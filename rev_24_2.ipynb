{
  "nbformat": 4,
  "nbformat_minor": 0,
  "metadata": {
    "colab": {
      "provenance": []
    },
    "kernelspec": {
      "name": "python3",
      "display_name": "Python 3"
    },
    "language_info": {
      "name": "python"
    }
  },
  "cells": [
    {
      "cell_type": "code",
      "execution_count": 7,
      "metadata": {
        "id": "lFJw2A2uhRof"
      },
      "outputs": [],
      "source": [
        "import pandas as pd\n",
        "df=pd.read_csv('/content/GOOG `1.csv')"
      ]
    },
    {
      "cell_type": "code",
      "source": [
        "print(df)"
      ],
      "metadata": {
        "colab": {
          "base_uri": "https://localhost:8080/"
        },
        "id": "DDJ8PWT2jkNR",
        "outputId": "0088ce75-6599-4e29-bab4-d5e69367dd6f"
      },
      "execution_count": 8,
      "outputs": [
        {
          "output_type": "stream",
          "name": "stdout",
          "text": [
            "      Date        Open\n",
            "0      1.0  131.078506\n",
            "1      2.0  125.000000\n",
            "2      3.0  133.525497\n",
            "3      4.0  133.284500\n",
            "4      5.0  134.479996\n",
            "..     ...         ...\n",
            "247  248.0   95.540001\n",
            "248  249.0   95.070000\n",
            "249  250.0   93.239998\n",
            "250  251.0   91.933998\n",
            "251  252.0   92.129997\n",
            "\n",
            "[252 rows x 2 columns]\n"
          ]
        }
      ]
    },
    {
      "cell_type": "code",
      "source": [
        "import numpy as np\n",
        "import matplotlib.pyplot as plt\n"
      ],
      "metadata": {
        "id": "XocaaKpFoTLE"
      },
      "execution_count": 9,
      "outputs": []
    },
    {
      "cell_type": "code",
      "source": [
        "x=df.iloc[:].values"
      ],
      "metadata": {
        "id": "3K1rq8U_o8UT"
      },
      "execution_count": 15,
      "outputs": []
    },
    {
      "cell_type": "code",
      "source": [
        "x"
      ],
      "metadata": {
        "colab": {
          "base_uri": "https://localhost:8080/"
        },
        "id": "r4AzhNI0pFIb",
        "outputId": "0c9c5ceb-4f78-4519-e82f-be32a0c5f96a"
      },
      "execution_count": 16,
      "outputs": [
        {
          "output_type": "execute_result",
          "data": {
            "text/plain": [
              "array([[  1.      , 131.078506],\n",
              "       [  2.      , 125.      ],\n",
              "       [  3.      , 133.525497],\n",
              "       [  4.      , 133.2845  ],\n",
              "       [  5.      , 134.479996],\n",
              "       [  6.      , 134.608246],\n",
              "       [  7.      , 135.9785  ],\n",
              "       [  8.      , 133.382507],\n",
              "       [  9.      , 131.904007],\n",
              "       [ 10.      , 126.250504],\n",
              "       [ 11.      , 131.399994],\n",
              "       [ 12.      , 131.462494],\n",
              "       [ 13.      , 133.999496],\n",
              "       [ 14.      , 130.572998],\n",
              "       [ 15.      , 127.741501],\n",
              "       [ 16.      , 131.      ],\n",
              "       [ 17.      , 133.320999],\n",
              "       [ 18.      , 133.884003],\n",
              "       [ 19.      , 136.847504],\n",
              "       [ 20.      , 136.5     ],\n",
              "       [ 21.      , 139.138504],\n",
              "       [ 22.      , 139.272507],\n",
              "       [ 23.      , 141.753998],\n",
              "       [ 24.      , 140.684494],\n",
              "       [ 25.      , 143.160507],\n",
              "       [ 26.      , 142.869995],\n",
              "       [ 27.      , 142.448502],\n",
              "       [ 28.      , 140.009995],\n",
              "       [ 29.      , 140.824493],\n",
              "       [ 30.      , 143.399506],\n",
              "       [ 31.      , 139.161499],\n",
              "       [ 32.      , 136.617996],\n",
              "       [ 33.      , 136.25    ],\n",
              "       [ 34.      , 132.899994],\n",
              "       [ 35.      , 132.423492],\n",
              "       [ 36.      , 128.626495],\n",
              "       [ 37.      , 130.649506],\n",
              "       [ 38.      , 127.410004],\n",
              "       [ 39.      , 128.076996],\n",
              "       [ 40.      , 131.283997],\n",
              "       [ 41.      , 129.350006],\n",
              "       [ 42.      , 125.      ],\n",
              "       [ 43.      , 119.429497],\n",
              "       [ 44.      , 122.75    ],\n",
              "       [ 45.      , 114.373001],\n",
              "       [ 46.      , 117.114998],\n",
              "       [ 47.      , 117.578003],\n",
              "       [ 48.      , 113.906502],\n",
              "       [ 49.      , 116.764999],\n",
              "       [ 50.      , 118.003502],\n",
              "       [ 51.      , 120.220497],\n",
              "       [ 52.      , 115.518997],\n",
              "       [ 53.      , 113.303497],\n",
              "       [ 54.      , 116.040497],\n",
              "       [ 55.      , 113.710503],\n",
              "       [ 56.      , 111.938004],\n",
              "       [ 57.      , 114.845497],\n",
              "       [ 58.      , 115.384003],\n",
              "       [ 59.      , 117.227501],\n",
              "       [ 60.      , 115.237503],\n",
              "       [ 61.      , 111.841003],\n",
              "       [ 62.      , 112.085503],\n",
              "       [ 63.      , 110.103996],\n",
              "       [ 64.      , 106.377502],\n",
              "       [ 65.      , 105.141998],\n",
              "       [ 66.      , 106.050499],\n",
              "       [ 67.      , 109.788498],\n",
              "       [ 68.      , 113.079002],\n",
              "       [ 69.      , 114.931503],\n",
              "       [ 70.      , 114.188004],\n",
              "       [ 71.      , 115.9925  ],\n",
              "       [ 72.      , 116.7425  ],\n",
              "       [ 73.      , 115.648003],\n",
              "       [ 74.      , 116.876503],\n",
              "       [ 75.      , 116.341499],\n",
              "       [ 76.      , 112.78125 ],\n",
              "       [ 77.      , 107.445999],\n",
              "       [ 78.      , 106.889999],\n",
              "       [ 79.      , 108.899498],\n",
              "       [ 80.      , 108.149498],\n",
              "       [ 81.      , 106.535004],\n",
              "       [ 82.      , 109.702003],\n",
              "       [ 83.      , 111.163002],\n",
              "       [ 84.      , 112.949997],\n",
              "       [ 85.      , 113.602997],\n",
              "       [ 86.      , 118.934998],\n",
              "       [ 87.      , 116.350998],\n",
              "       [ 88.      , 112.148499],\n",
              "       [ 89.      , 110.499496],\n",
              "       [ 90.      , 108.336998],\n",
              "       [ 91.      , 107.514503],\n",
              "       [ 92.      , 114.092003],\n",
              "       [ 93.      , 116.008003],\n",
              "       [ 94.      , 117.550003],\n",
              "       [ 95.      , 118.650002],\n",
              "       [ 96.      , 116.838501],\n",
              "       [ 97.      , 112.639   ],\n",
              "       [ 98.      , 110.825996],\n",
              "       [ 99.      , 112.962997],\n",
              "       [100.      , 113.440002],\n",
              "       [101.      , 111.730003],\n",
              "       [102.      , 114.059998],\n",
              "       [103.      , 115.089996],\n",
              "       [104.      , 111.809998],\n",
              "       [105.      , 108.879997],\n",
              "       [106.      , 107.43    ],\n",
              "       [107.      , 109.599998],\n",
              "       [108.      , 112.800003],\n",
              "       [109.      , 113.400002],\n",
              "       [110.      , 115.529999],\n",
              "       [111.      , 114.43    ],\n",
              "       [112.      , 116.339996],\n",
              "       [113.      , 118.300003],\n",
              "       [114.      , 116.93    ],\n",
              "       [115.      , 119.120003],\n",
              "       [116.      , 117.989998],\n",
              "       [117.      , 119.589996],\n",
              "       [118.      , 122.080002],\n",
              "       [119.      , 121.160004],\n",
              "       [120.      , 122.209999],\n",
              "       [121.      , 122.32    ],\n",
              "       [122.      , 120.93    ],\n",
              "       [123.      , 120.230003],\n",
              "       [124.      , 119.870003],\n",
              "       [125.      , 116.099998],\n",
              "       [126.      , 114.32    ],\n",
              "       [127.      , 114.449997],\n",
              "       [128.      , 115.150002],\n",
              "       [129.      , 115.809998],\n",
              "       [130.      , 110.779999],\n",
              "       [131.      , 111.029999],\n",
              "       [132.      , 111.629997],\n",
              "       [133.      , 109.199997],\n",
              "       [134.      , 111.339996],\n",
              "       [135.      , 108.135002],\n",
              "       [136.      , 107.760002],\n",
              "       [137.      , 109.18    ],\n",
              "       [138.      , 110.050003],\n",
              "       [139.      , 111.989998],\n",
              "       [140.      , 108.889999],\n",
              "       [141.      , 105.440002],\n",
              "       [142.      , 105.010002],\n",
              "       [143.      , 102.970001],\n",
              "       [144.      , 102.540001],\n",
              "       [145.      , 102.879997],\n",
              "       [146.      , 102.239998],\n",
              "       [147.      ,  99.449997],\n",
              "       [148.      , 100.059998],\n",
              "       [149.      ,  98.610001],\n",
              "       [150.      ,  99.910004],\n",
              "       [151.      ,  98.019997],\n",
              "       [152.      ,  99.300003],\n",
              "       [153.      ,  97.730003],\n",
              "       [154.      ,  97.220001],\n",
              "       [155.      , 101.040001],\n",
              "       [156.      , 100.690002],\n",
              "       [157.      , 101.5     ],\n",
              "       [158.      , 100.650002],\n",
              "       [159.      ,  99.849998],\n",
              "       [160.      ,  98.25    ],\n",
              "       [161.      ,  98.269997],\n",
              "       [162.      ,  95.93    ],\n",
              "       [163.      , 100.625   ],\n",
              "       [164.      ,  99.519997],\n",
              "       [165.      , 103.940002],\n",
              "       [166.      , 100.699997],\n",
              "       [167.      , 100.82    ],\n",
              "       [168.      ,  98.459999],\n",
              "       [169.      , 102.089996],\n",
              "       [170.      , 103.300003],\n",
              "       [171.      ,  96.760002],\n",
              "       [172.      ,  94.309998],\n",
              "       [173.      ,  92.529999],\n",
              "       [174.      ,  95.779999],\n",
              "       [175.      ,  95.589996],\n",
              "       [176.      ,  90.910004],\n",
              "       [177.      ,  86.345001],\n",
              "       [178.      ,  85.510002],\n",
              "       [179.      ,  87.339996],\n",
              "       [180.      ,  89.160004],\n",
              "       [181.      ,  88.544998],\n",
              "       [182.      ,  92.339996],\n",
              "       [183.      ,  94.709999],\n",
              "       [184.      ,  95.5     ],\n",
              "       [185.      ,  98.669998],\n",
              "       [186.      ,  98.019997],\n",
              "       [187.      ,  97.18    ],\n",
              "       [188.      ,  99.010002],\n",
              "       [189.      ,  97.559998],\n",
              "       [190.      ,  96.160004],\n",
              "       [191.      ,  97.339996],\n",
              "       [192.      ,  98.464996],\n",
              "       [193.      ,  97.199997],\n",
              "       [194.      ,  96.      ],\n",
              "       [195.      ,  95.120003],\n",
              "       [196.      , 101.400002],\n",
              "       [197.      ,  99.370003],\n",
              "       [198.      ,  99.815002],\n",
              "       [199.      ,  99.669998],\n",
              "       [200.      ,  96.769997],\n",
              "       [201.      ,  95.690002],\n",
              "       [202.      ,  93.900002],\n",
              "       [203.      ,  93.089996],\n",
              "       [204.      ,  98.07    ],\n",
              "       [205.      ,  95.540001],\n",
              "       [206.      ,  93.540001],\n",
              "       [207.      ,  91.199997],\n",
              "       [208.      ,  90.879997],\n",
              "       [209.      ,  88.730003],\n",
              "       [210.      ,  89.730003],\n",
              "       [211.      ,  88.93    ],\n",
              "       [212.      ,  87.620003],\n",
              "       [213.      ,  89.309998],\n",
              "       [214.      ,  87.5     ],\n",
              "       [215.      ,  87.029999],\n",
              "       [216.      ,  87.364998],\n",
              "       [217.      ,  89.830002],\n",
              "       [218.      ,  91.010002],\n",
              "       [219.      ,  88.07    ],\n",
              "       [220.      ,  87.360001],\n",
              "       [221.      ,  89.195   ],\n",
              "       [222.      ,  86.720001],\n",
              "       [223.      ,  90.059998],\n",
              "       [224.      ,  92.400002],\n",
              "       [225.      ,  91.528   ],\n",
              "       [226.      ,  92.779999],\n",
              "       [227.      ,  92.940002],\n",
              "       [228.      ,  91.389999],\n",
              "       [229.      ,  95.949997],\n",
              "       [230.      ,  99.129997],\n",
              "       [231.      ,  99.550003],\n",
              "       [232.      ,  97.199997],\n",
              "       [233.      ,  98.279999],\n",
              "       [234.      ,  99.050003],\n",
              "       [235.      ,  98.745003],\n",
              "       [236.      ,  97.860001],\n",
              "       [237.      ,  99.739998],\n",
              "       [238.      , 106.790001],\n",
              "       [239.      , 103.510002],\n",
              "       [240.      , 102.684998],\n",
              "       [241.      , 103.629997],\n",
              "       [242.      , 102.690002],\n",
              "       [243.      , 100.540001],\n",
              "       [244.      ,  95.739998],\n",
              "       [245.      ,  95.010002],\n",
              "       [246.      ,  94.660004],\n",
              "       [247.      ,  94.739998],\n",
              "       [248.      ,  95.540001],\n",
              "       [249.      ,  95.07    ],\n",
              "       [250.      ,  93.239998],\n",
              "       [251.      ,  91.933998],\n",
              "       [252.      ,  92.129997]])"
            ]
          },
          "metadata": {},
          "execution_count": 16
        }
      ]
    },
    {
      "cell_type": "code",
      "source": [
        "len(x)"
      ],
      "metadata": {
        "colab": {
          "base_uri": "https://localhost:8080/"
        },
        "id": "NNYh9iycpGaj",
        "outputId": "fdf4ca23-dbad-4bbd-86f0-d121e0576f53"
      },
      "execution_count": 17,
      "outputs": [
        {
          "output_type": "execute_result",
          "data": {
            "text/plain": [
              "252"
            ]
          },
          "metadata": {},
          "execution_count": 17
        }
      ]
    },
    {
      "cell_type": "code",
      "source": [
        "x[:2]"
      ],
      "metadata": {
        "colab": {
          "base_uri": "https://localhost:8080/"
        },
        "id": "x-huJdQMpo2d",
        "outputId": "a0c1e748-84e9-41f5-ac2b-0ea1caec3796"
      },
      "execution_count": 18,
      "outputs": [
        {
          "output_type": "execute_result",
          "data": {
            "text/plain": [
              "array([[  1.      , 131.078506],\n",
              "       [  2.      , 125.      ]])"
            ]
          },
          "metadata": {},
          "execution_count": 18
        }
      ]
    },
    {
      "cell_type": "code",
      "source": [
        "x=df.iloc[:,0:1].values"
      ],
      "metadata": {
        "id": "0cqbvtGprH3d"
      },
      "execution_count": 20,
      "outputs": []
    },
    {
      "cell_type": "code",
      "source": [
        "x"
      ],
      "metadata": {
        "colab": {
          "base_uri": "https://localhost:8080/"
        },
        "id": "cK3HCzTcsq6B",
        "outputId": "626b2d75-c5fa-4c8a-8da7-8d7669a3a9d2"
      },
      "execution_count": 21,
      "outputs": [
        {
          "output_type": "execute_result",
          "data": {
            "text/plain": [
              "array([[  1.],\n",
              "       [  2.],\n",
              "       [  3.],\n",
              "       [  4.],\n",
              "       [  5.],\n",
              "       [  6.],\n",
              "       [  7.],\n",
              "       [  8.],\n",
              "       [  9.],\n",
              "       [ 10.],\n",
              "       [ 11.],\n",
              "       [ 12.],\n",
              "       [ 13.],\n",
              "       [ 14.],\n",
              "       [ 15.],\n",
              "       [ 16.],\n",
              "       [ 17.],\n",
              "       [ 18.],\n",
              "       [ 19.],\n",
              "       [ 20.],\n",
              "       [ 21.],\n",
              "       [ 22.],\n",
              "       [ 23.],\n",
              "       [ 24.],\n",
              "       [ 25.],\n",
              "       [ 26.],\n",
              "       [ 27.],\n",
              "       [ 28.],\n",
              "       [ 29.],\n",
              "       [ 30.],\n",
              "       [ 31.],\n",
              "       [ 32.],\n",
              "       [ 33.],\n",
              "       [ 34.],\n",
              "       [ 35.],\n",
              "       [ 36.],\n",
              "       [ 37.],\n",
              "       [ 38.],\n",
              "       [ 39.],\n",
              "       [ 40.],\n",
              "       [ 41.],\n",
              "       [ 42.],\n",
              "       [ 43.],\n",
              "       [ 44.],\n",
              "       [ 45.],\n",
              "       [ 46.],\n",
              "       [ 47.],\n",
              "       [ 48.],\n",
              "       [ 49.],\n",
              "       [ 50.],\n",
              "       [ 51.],\n",
              "       [ 52.],\n",
              "       [ 53.],\n",
              "       [ 54.],\n",
              "       [ 55.],\n",
              "       [ 56.],\n",
              "       [ 57.],\n",
              "       [ 58.],\n",
              "       [ 59.],\n",
              "       [ 60.],\n",
              "       [ 61.],\n",
              "       [ 62.],\n",
              "       [ 63.],\n",
              "       [ 64.],\n",
              "       [ 65.],\n",
              "       [ 66.],\n",
              "       [ 67.],\n",
              "       [ 68.],\n",
              "       [ 69.],\n",
              "       [ 70.],\n",
              "       [ 71.],\n",
              "       [ 72.],\n",
              "       [ 73.],\n",
              "       [ 74.],\n",
              "       [ 75.],\n",
              "       [ 76.],\n",
              "       [ 77.],\n",
              "       [ 78.],\n",
              "       [ 79.],\n",
              "       [ 80.],\n",
              "       [ 81.],\n",
              "       [ 82.],\n",
              "       [ 83.],\n",
              "       [ 84.],\n",
              "       [ 85.],\n",
              "       [ 86.],\n",
              "       [ 87.],\n",
              "       [ 88.],\n",
              "       [ 89.],\n",
              "       [ 90.],\n",
              "       [ 91.],\n",
              "       [ 92.],\n",
              "       [ 93.],\n",
              "       [ 94.],\n",
              "       [ 95.],\n",
              "       [ 96.],\n",
              "       [ 97.],\n",
              "       [ 98.],\n",
              "       [ 99.],\n",
              "       [100.],\n",
              "       [101.],\n",
              "       [102.],\n",
              "       [103.],\n",
              "       [104.],\n",
              "       [105.],\n",
              "       [106.],\n",
              "       [107.],\n",
              "       [108.],\n",
              "       [109.],\n",
              "       [110.],\n",
              "       [111.],\n",
              "       [112.],\n",
              "       [113.],\n",
              "       [114.],\n",
              "       [115.],\n",
              "       [116.],\n",
              "       [117.],\n",
              "       [118.],\n",
              "       [119.],\n",
              "       [120.],\n",
              "       [121.],\n",
              "       [122.],\n",
              "       [123.],\n",
              "       [124.],\n",
              "       [125.],\n",
              "       [126.],\n",
              "       [127.],\n",
              "       [128.],\n",
              "       [129.],\n",
              "       [130.],\n",
              "       [131.],\n",
              "       [132.],\n",
              "       [133.],\n",
              "       [134.],\n",
              "       [135.],\n",
              "       [136.],\n",
              "       [137.],\n",
              "       [138.],\n",
              "       [139.],\n",
              "       [140.],\n",
              "       [141.],\n",
              "       [142.],\n",
              "       [143.],\n",
              "       [144.],\n",
              "       [145.],\n",
              "       [146.],\n",
              "       [147.],\n",
              "       [148.],\n",
              "       [149.],\n",
              "       [150.],\n",
              "       [151.],\n",
              "       [152.],\n",
              "       [153.],\n",
              "       [154.],\n",
              "       [155.],\n",
              "       [156.],\n",
              "       [157.],\n",
              "       [158.],\n",
              "       [159.],\n",
              "       [160.],\n",
              "       [161.],\n",
              "       [162.],\n",
              "       [163.],\n",
              "       [164.],\n",
              "       [165.],\n",
              "       [166.],\n",
              "       [167.],\n",
              "       [168.],\n",
              "       [169.],\n",
              "       [170.],\n",
              "       [171.],\n",
              "       [172.],\n",
              "       [173.],\n",
              "       [174.],\n",
              "       [175.],\n",
              "       [176.],\n",
              "       [177.],\n",
              "       [178.],\n",
              "       [179.],\n",
              "       [180.],\n",
              "       [181.],\n",
              "       [182.],\n",
              "       [183.],\n",
              "       [184.],\n",
              "       [185.],\n",
              "       [186.],\n",
              "       [187.],\n",
              "       [188.],\n",
              "       [189.],\n",
              "       [190.],\n",
              "       [191.],\n",
              "       [192.],\n",
              "       [193.],\n",
              "       [194.],\n",
              "       [195.],\n",
              "       [196.],\n",
              "       [197.],\n",
              "       [198.],\n",
              "       [199.],\n",
              "       [200.],\n",
              "       [201.],\n",
              "       [202.],\n",
              "       [203.],\n",
              "       [204.],\n",
              "       [205.],\n",
              "       [206.],\n",
              "       [207.],\n",
              "       [208.],\n",
              "       [209.],\n",
              "       [210.],\n",
              "       [211.],\n",
              "       [212.],\n",
              "       [213.],\n",
              "       [214.],\n",
              "       [215.],\n",
              "       [216.],\n",
              "       [217.],\n",
              "       [218.],\n",
              "       [219.],\n",
              "       [220.],\n",
              "       [221.],\n",
              "       [222.],\n",
              "       [223.],\n",
              "       [224.],\n",
              "       [225.],\n",
              "       [226.],\n",
              "       [227.],\n",
              "       [228.],\n",
              "       [229.],\n",
              "       [230.],\n",
              "       [231.],\n",
              "       [232.],\n",
              "       [233.],\n",
              "       [234.],\n",
              "       [235.],\n",
              "       [236.],\n",
              "       [237.],\n",
              "       [238.],\n",
              "       [239.],\n",
              "       [240.],\n",
              "       [241.],\n",
              "       [242.],\n",
              "       [243.],\n",
              "       [244.],\n",
              "       [245.],\n",
              "       [246.],\n",
              "       [247.],\n",
              "       [248.],\n",
              "       [249.],\n",
              "       [250.],\n",
              "       [251.],\n",
              "       [252.]])"
            ]
          },
          "metadata": {},
          "execution_count": 21
        }
      ]
    },
    {
      "cell_type": "code",
      "source": [
        "y=df.iloc[:,1].values"
      ],
      "metadata": {
        "id": "1bUYxCD1su1B"
      },
      "execution_count": 23,
      "outputs": []
    },
    {
      "cell_type": "code",
      "source": [
        "y"
      ],
      "metadata": {
        "colab": {
          "base_uri": "https://localhost:8080/"
        },
        "id": "JUo0EFNDtSzk",
        "outputId": "7d5265ab-7224-43f7-d289-bc02d6957ba6"
      },
      "execution_count": 24,
      "outputs": [
        {
          "output_type": "execute_result",
          "data": {
            "text/plain": [
              "array([131.078506, 125.      , 133.525497, 133.2845  , 134.479996,\n",
              "       134.608246, 135.9785  , 133.382507, 131.904007, 126.250504,\n",
              "       131.399994, 131.462494, 133.999496, 130.572998, 127.741501,\n",
              "       131.      , 133.320999, 133.884003, 136.847504, 136.5     ,\n",
              "       139.138504, 139.272507, 141.753998, 140.684494, 143.160507,\n",
              "       142.869995, 142.448502, 140.009995, 140.824493, 143.399506,\n",
              "       139.161499, 136.617996, 136.25    , 132.899994, 132.423492,\n",
              "       128.626495, 130.649506, 127.410004, 128.076996, 131.283997,\n",
              "       129.350006, 125.      , 119.429497, 122.75    , 114.373001,\n",
              "       117.114998, 117.578003, 113.906502, 116.764999, 118.003502,\n",
              "       120.220497, 115.518997, 113.303497, 116.040497, 113.710503,\n",
              "       111.938004, 114.845497, 115.384003, 117.227501, 115.237503,\n",
              "       111.841003, 112.085503, 110.103996, 106.377502, 105.141998,\n",
              "       106.050499, 109.788498, 113.079002, 114.931503, 114.188004,\n",
              "       115.9925  , 116.7425  , 115.648003, 116.876503, 116.341499,\n",
              "       112.78125 , 107.445999, 106.889999, 108.899498, 108.149498,\n",
              "       106.535004, 109.702003, 111.163002, 112.949997, 113.602997,\n",
              "       118.934998, 116.350998, 112.148499, 110.499496, 108.336998,\n",
              "       107.514503, 114.092003, 116.008003, 117.550003, 118.650002,\n",
              "       116.838501, 112.639   , 110.825996, 112.962997, 113.440002,\n",
              "       111.730003, 114.059998, 115.089996, 111.809998, 108.879997,\n",
              "       107.43    , 109.599998, 112.800003, 113.400002, 115.529999,\n",
              "       114.43    , 116.339996, 118.300003, 116.93    , 119.120003,\n",
              "       117.989998, 119.589996, 122.080002, 121.160004, 122.209999,\n",
              "       122.32    , 120.93    , 120.230003, 119.870003, 116.099998,\n",
              "       114.32    , 114.449997, 115.150002, 115.809998, 110.779999,\n",
              "       111.029999, 111.629997, 109.199997, 111.339996, 108.135002,\n",
              "       107.760002, 109.18    , 110.050003, 111.989998, 108.889999,\n",
              "       105.440002, 105.010002, 102.970001, 102.540001, 102.879997,\n",
              "       102.239998,  99.449997, 100.059998,  98.610001,  99.910004,\n",
              "        98.019997,  99.300003,  97.730003,  97.220001, 101.040001,\n",
              "       100.690002, 101.5     , 100.650002,  99.849998,  98.25    ,\n",
              "        98.269997,  95.93    , 100.625   ,  99.519997, 103.940002,\n",
              "       100.699997, 100.82    ,  98.459999, 102.089996, 103.300003,\n",
              "        96.760002,  94.309998,  92.529999,  95.779999,  95.589996,\n",
              "        90.910004,  86.345001,  85.510002,  87.339996,  89.160004,\n",
              "        88.544998,  92.339996,  94.709999,  95.5     ,  98.669998,\n",
              "        98.019997,  97.18    ,  99.010002,  97.559998,  96.160004,\n",
              "        97.339996,  98.464996,  97.199997,  96.      ,  95.120003,\n",
              "       101.400002,  99.370003,  99.815002,  99.669998,  96.769997,\n",
              "        95.690002,  93.900002,  93.089996,  98.07    ,  95.540001,\n",
              "        93.540001,  91.199997,  90.879997,  88.730003,  89.730003,\n",
              "        88.93    ,  87.620003,  89.309998,  87.5     ,  87.029999,\n",
              "        87.364998,  89.830002,  91.010002,  88.07    ,  87.360001,\n",
              "        89.195   ,  86.720001,  90.059998,  92.400002,  91.528   ,\n",
              "        92.779999,  92.940002,  91.389999,  95.949997,  99.129997,\n",
              "        99.550003,  97.199997,  98.279999,  99.050003,  98.745003,\n",
              "        97.860001,  99.739998, 106.790001, 103.510002, 102.684998,\n",
              "       103.629997, 102.690002, 100.540001,  95.739998,  95.010002,\n",
              "        94.660004,  94.739998,  95.540001,  95.07    ,  93.239998,\n",
              "        91.933998,  92.129997])"
            ]
          },
          "metadata": {},
          "execution_count": 24
        }
      ]
    },
    {
      "cell_type": "code",
      "source": [
        "from sklearn.linear_model import LinearRegression\n",
        "regressor=LinearRegression()\n",
        "regressor.fit(x,y)"
      ],
      "metadata": {
        "colab": {
          "base_uri": "https://localhost:8080/"
        },
        "id": "NzSUfrYVtVG9",
        "outputId": "24675acf-1f72-4935-9080-5f2cf2283073"
      },
      "execution_count": 27,
      "outputs": [
        {
          "output_type": "execute_result",
          "data": {
            "text/plain": [
              "LinearRegression()"
            ]
          },
          "metadata": {},
          "execution_count": 27
        }
      ]
    },
    {
      "cell_type": "code",
      "source": [
        "LinearRegression() "
      ],
      "metadata": {
        "colab": {
          "base_uri": "https://localhost:8080/"
        },
        "id": "BcGPdHDAwQ48",
        "outputId": "79129219-0752-4687-c630-0f68075a440e"
      },
      "execution_count": 28,
      "outputs": [
        {
          "output_type": "execute_result",
          "data": {
            "text/plain": [
              "LinearRegression()"
            ]
          },
          "metadata": {},
          "execution_count": 28
        }
      ]
    },
    {
      "cell_type": "code",
      "source": [
        "y_pred=regressor.predict(x)"
      ],
      "metadata": {
        "id": "BNQ0xaTpwe0y"
      },
      "execution_count": 30,
      "outputs": []
    },
    {
      "cell_type": "code",
      "source": [
        "plt.scatter (x,y,color=\"red\")\n",
        "plt.plot(x,regressor.predict(x),color=\"blue\")\n",
        "plt.xlabel(\"package\")\n",
        "plt.ylabel(\"sales\")\n",
        "plt.show()"
      ],
      "metadata": {
        "colab": {
          "base_uri": "https://localhost:8080/",
          "height": 279
        },
        "id": "Vex6rEUvwjP6",
        "outputId": "0b0772b0-ffc6-42e4-f882-7b4452d421cb"
      },
      "execution_count": 32,
      "outputs": [
        {
          "output_type": "display_data",
          "data": {
            "text/plain": [
              "<Figure size 432x288 with 1 Axes>"
            ],
            "image/png": "[encoded data removed]"
          },
          "metadata": {
            "needs_background": "light"
          }
        }
      ]
    },
    {
      "cell_type": "code",
      "source": [],
      "metadata": {
        "id": "D8GsoflDxOrt"
      },
      "execution_count": null,
      "outputs": []
    }
  ]
}