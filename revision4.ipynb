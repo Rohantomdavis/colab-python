{
  "nbformat": 4,
  "nbformat_minor": 0,
  "metadata": {
    "colab": {
      "provenance": []
    },
    "kernelspec": {
      "name": "python3",
      "display_name": "Python 3"
    },
    "language_info": {
      "name": "python"
    }
  },
  "cells": [
    {
      "cell_type": "code",
      "execution_count": null,
      "metadata": {
        "colab": {
          "base_uri": "https://localhost:8080/"
        },
        "id": "rzkZbMqgHA0B",
        "outputId": "928efc43-545b-40f9-b768-5c8c4c20423d"
      },
      "outputs": [
        {
          "output_type": "stream",
          "name": "stdout",
          "text": [
            "False\n",
            "True\n"
          ]
        }
      ],
      "source": [
        "#identity operator\n",
        "x=2\n",
        "y=5\n",
        "print(x is y)\n",
        "print(x is not y)"
      ]
    },
    {
      "cell_type": "code",
      "source": [
        "#logical operator\n",
        "x=2\n",
        "y=5\n",
        "print(x<2 and x<10)\n",
        "print(not(x<2 and x<10))"
      ],
      "metadata": {
        "colab": {
          "base_uri": "https://localhost:8080/"
        },
        "id": "Uu2C23OVIcoj",
        "outputId": "0f075e74-3199-4908-d83a-882771aa6c24"
      },
      "execution_count": null,
      "outputs": [
        {
          "output_type": "stream",
          "name": "stdout",
          "text": [
            "False\n",
            "True\n"
          ]
        }
      ]
    },
    {
      "cell_type": "code",
      "source": [
        "#multi operator expression\n",
        "x=2\n",
        "y=5\n",
        "print((x+5)- y<(10+x)-y)"
      ],
      "metadata": {
        "colab": {
          "base_uri": "https://localhost:8080/"
        },
        "id": "WkdiXHQ1JPe_",
        "outputId": "5d1563bb-31ce-4c4e-93d6-cdc27c9c03fc"
      },
      "execution_count": null,
      "outputs": [
        {
          "output_type": "stream",
          "name": "stdout",
          "text": [
            "True\n"
          ]
        }
      ]
    },
    {
      "cell_type": "code",
      "source": [
        "#combination expressions\n",
        "x=2\n",
        "y=5\n",
        "z=3\n",
        "print((x+y)<z)"
      ],
      "metadata": {
        "colab": {
          "base_uri": "https://localhost:8080/"
        },
        "id": "t6uOmoG8LVS4",
        "outputId": "b8025a30-dc3d-4eb9-c1cb-3663d94837a3"
      },
      "execution_count": null,
      "outputs": [
        {
          "output_type": "stream",
          "name": "stdout",
          "text": [
            "False\n"
          ]
        }
      ]
    },
    {
      "cell_type": "code",
      "source": [
        "#hybrid opertaion\n",
        "x=10\n",
        "y=4\n",
        "print(x+int(y))"
      ],
      "metadata": {
        "colab": {
          "base_uri": "https://localhost:8080/"
        },
        "id": "JncT6z79MC9I",
        "outputId": "8b2554b6-40c1-4669-df86-522c17b6042c"
      },
      "execution_count": null,
      "outputs": [
        {
          "output_type": "stream",
          "name": "stdout",
          "text": [
            "14\n"
          ]
        }
      ]
    },
    {
      "cell_type": "code",
      "source": [
        "#bodmas\n",
        "x=10*(4+6)*10/100\n",
        "print(x)"
      ],
      "metadata": {
        "colab": {
          "base_uri": "https://localhost:8080/"
        },
        "id": "LrEUnWzDMr8X",
        "outputId": "80d9df89-385d-42da-d629-810982fc0d27"
      },
      "execution_count": null,
      "outputs": [
        {
          "output_type": "stream",
          "name": "stdout",
          "text": [
            "10.0\n"
          ]
        }
      ]
    },
    {
      "cell_type": "code",
      "source": [
        "import math as jes\n",
        "x=jes.pi\n",
        "\n",
        "print(x)"
      ],
      "metadata": {
        "id": "_hYQbz7YMzBE",
        "colab": {
          "base_uri": "https://localhost:8080/"
        },
        "outputId": "291e8780-913a-4a87-b5c8-36e6b1ea065d"
      },
      "execution_count": 17,
      "outputs": [
        {
          "output_type": "stream",
          "name": "stdout",
          "text": [
            "3.141592653589793\n"
          ]
        }
      ]
    },
    {
      "cell_type": "code",
      "source": [
        "import math as mt\n",
        "x=mt.e\n",
        "print(x)"
      ],
      "metadata": {
        "colab": {
          "base_uri": "https://localhost:8080/"
        },
        "id": "K_fYu2G2PI8W",
        "outputId": "bd9c0829-88d6-4777-aaa6-031cd2b55731"
      },
      "execution_count": 18,
      "outputs": [
        {
          "output_type": "stream",
          "name": "stdout",
          "text": [
            "2.718281828459045\n"
          ]
        }
      ]
    },
    {
      "cell_type": "code",
      "source": [
        "import math as mt\n",
        "r=int(input(\"enter radius: \"))\n",
        "x=mt.pi*r**2\n",
        "print(x)"
      ],
      "metadata": {
        "colab": {
          "base_uri": "https://localhost:8080/"
        },
        "id": "K7pt1i0CPYYo",
        "outputId": "9f7edae9-c471-4aa6-dbbc-1c6951f1a513"
      },
      "execution_count": 19,
      "outputs": [
        {
          "output_type": "stream",
          "name": "stdout",
          "text": [
            "enter radius: 5\n",
            "78.53981633974483\n"
          ]
        }
      ]
    },
    {
      "cell_type": "code",
      "source": [
        "import math as mt\n",
        "x=mt.sin(30)\n",
        "print(x)"
      ],
      "metadata": {
        "colab": {
          "base_uri": "https://localhost:8080/"
        },
        "id": "jZJ4KjKGPt6R",
        "outputId": "9f71d49d-00fa-4480-fd7e-556ac54fc200"
      },
      "execution_count": 20,
      "outputs": [
        {
          "output_type": "stream",
          "name": "stdout",
          "text": [
            "-0.9880316240928618\n"
          ]
        }
      ]
    },
    {
      "cell_type": "code",
      "source": [
        "import math as mt\n",
        "x=mt.cos(30)\n",
        "print(x)"
      ],
      "metadata": {
        "colab": {
          "base_uri": "https://localhost:8080/"
        },
        "id": "tq97LAL_P5JF",
        "outputId": "3dcf45e7-3921-4547-b558-3dd3cb7a264d"
      },
      "execution_count": 21,
      "outputs": [
        {
          "output_type": "stream",
          "name": "stdout",
          "text": [
            "0.15425144988758405\n"
          ]
        }
      ]
    },
    {
      "cell_type": "code",
      "source": [
        "import math as mt\n",
        "x=mt.tan(30)\n",
        "print(x)"
      ],
      "metadata": {
        "colab": {
          "base_uri": "https://localhost:8080/"
        },
        "id": "9eUNfn7KQYXa",
        "outputId": "5dc4b988-4624-49d7-c6e1-5cb7b4481c3d"
      },
      "execution_count": 22,
      "outputs": [
        {
          "output_type": "stream",
          "name": "stdout",
          "text": [
            "-6.405331196646276\n"
          ]
        }
      ]
    },
    {
      "cell_type": "code",
      "source": [
        "import math as mt\n",
        "x=mt.pow(2,4)\n",
        "print(x)"
      ],
      "metadata": {
        "colab": {
          "base_uri": "https://localhost:8080/"
        },
        "id": "3impLxmnQdzK",
        "outputId": "93eeaa40-56c0-4765-afa8-a39ae2b7c657"
      },
      "execution_count": 23,
      "outputs": [
        {
          "output_type": "stream",
          "name": "stdout",
          "text": [
            "16.0\n"
          ]
        }
      ]
    },
    {
      "cell_type": "code",
      "source": [
        "import math as mt\n",
        "x=mt.sqrt(30)\n",
        "print(x)"
      ],
      "metadata": {
        "colab": {
          "base_uri": "https://localhost:8080/"
        },
        "id": "ysXETJoaQpcp",
        "outputId": "2c5c8a19-f2c3-4349-9a68-b4f79bb03de3"
      },
      "execution_count": 24,
      "outputs": [
        {
          "output_type": "stream",
          "name": "stdout",
          "text": [
            "5.477225575051661\n"
          ]
        }
      ]
    },
    {
      "cell_type": "code",
      "source": [
        "import math as mt\n",
        "x=min(5,10,25)\n",
        "y=max(5,10,25)\n",
        "print(x)\n",
        "print(y)"
      ],
      "metadata": {
        "colab": {
          "base_uri": "https://localhost:8080/"
        },
        "id": "nSw5a3lPQwcQ",
        "outputId": "4a0fdefe-9f41-4a5b-9d89-ab138faaf89e"
      },
      "execution_count": 26,
      "outputs": [
        {
          "output_type": "stream",
          "name": "stdout",
          "text": [
            "5\n",
            "25\n"
          ]
        }
      ]
    },
    {
      "cell_type": "code",
      "source": [
        "import math as math\n",
        "x=mt.gcd(3,6)\n",
        "print(x)"
      ],
      "metadata": {
        "colab": {
          "base_uri": "https://localhost:8080/"
        },
        "id": "80UAxxdHRPHc",
        "outputId": "839e16cc-d2fc-4ed8-a1f3-593e9b9fbd26"
      },
      "execution_count": 27,
      "outputs": [
        {
          "output_type": "stream",
          "name": "stdout",
          "text": [
            "3\n"
          ]
        }
      ]
    },
    {
      "cell_type": "code",
      "source": [
        "import statistics as st\n",
        "st.mean([2,5,6,9])"
      ],
      "metadata": {
        "colab": {
          "base_uri": "https://localhost:8080/"
        },
        "id": "yGDyuaw6RZbq",
        "outputId": "49c1af25-dc32-4216-83d3-011b2da65e53"
      },
      "execution_count": 30,
      "outputs": [
        {
          "output_type": "execute_result",
          "data": {
            "text/plain": [
              "5.5"
            ]
          },
          "metadata": {},
          "execution_count": 30
        }
      ]
    },
    {
      "cell_type": "code",
      "source": [
        "import statistics as st\n",
        "print(st.stdev([1,3,5,7,9,11]))"
      ],
      "metadata": {
        "colab": {
          "base_uri": "https://localhost:8080/"
        },
        "id": "bueplAN5SZOW",
        "outputId": "fbf566cc-5f94-45c3-b4b3-a2497e3c32be"
      },
      "execution_count": 34,
      "outputs": [
        {
          "output_type": "stream",
          "name": "stdout",
          "text": [
            "3.7416573867739413\n"
          ]
        }
      ]
    },
    {
      "cell_type": "code",
      "source": [
        "import statistics as st \n",
        "st.variance([2,2.5,5,5.5,7.5,2.8])"
      ],
      "metadata": {
        "colab": {
          "base_uri": "https://localhost:8080/"
        },
        "id": "AnVp7kiLSxkZ",
        "outputId": "a99c9c21-c3ea-442b-ee70-8aa1d5877ab2"
      },
      "execution_count": 35,
      "outputs": [
        {
          "output_type": "execute_result",
          "data": {
            "text/plain": [
              "4.581666666666667"
            ]
          },
          "metadata": {},
          "execution_count": 35
        }
      ]
    },
    {
      "cell_type": "code",
      "source": [
        "a=\"rohan\"\n",
        "print(a[0])"
      ],
      "metadata": {
        "colab": {
          "base_uri": "https://localhost:8080/"
        },
        "id": "SSCfK6uGS-eV",
        "outputId": "12a9bd95-3db8-4f9f-a593-1ce767d0470c"
      },
      "execution_count": 38,
      "outputs": [
        {
          "output_type": "stream",
          "name": "stdout",
          "text": [
            "r\n"
          ]
        }
      ]
    },
    {
      "cell_type": "code",
      "source": [
        "print(a[-2])"
      ],
      "metadata": {
        "colab": {
          "base_uri": "https://localhost:8080/"
        },
        "id": "Bmtui-jcTSXc",
        "outputId": "237972a3-8294-4a0c-e9a2-93a611d3067a"
      },
      "execution_count": 40,
      "outputs": [
        {
          "output_type": "stream",
          "name": "stdout",
          "text": [
            "a\n"
          ]
        }
      ]
    },
    {
      "cell_type": "code",
      "source": [
        "print(a[0:2])"
      ],
      "metadata": {
        "colab": {
          "base_uri": "https://localhost:8080/"
        },
        "id": "K-yJMoHKT_m9",
        "outputId": "1bb9aeb7-58a2-41e8-fc17-e87f272348e0"
      },
      "execution_count": 42,
      "outputs": [
        {
          "output_type": "stream",
          "name": "stdout",
          "text": [
            "ro\n"
          ]
        }
      ]
    },
    {
      "cell_type": "code",
      "source": [
        "b=\"jeswin\"\n",
        "print(b[2:5])"
      ],
      "metadata": {
        "colab": {
          "base_uri": "https://localhost:8080/"
        },
        "id": "d5bgj8rtUW60",
        "outputId": "5a4540a4-9f8a-4d13-8835-65006af78fc3"
      },
      "execution_count": 44,
      "outputs": [
        {
          "output_type": "stream",
          "name": "stdout",
          "text": [
            "swi\n"
          ]
        }
      ]
    },
    {
      "cell_type": "code",
      "source": [
        "print(b[:4])"
      ],
      "metadata": {
        "colab": {
          "base_uri": "https://localhost:8080/"
        },
        "id": "GQzmyC7kUspp",
        "outputId": "019eff72-061c-4454-ecab-187068cfe4ba"
      },
      "execution_count": 45,
      "outputs": [
        {
          "output_type": "stream",
          "name": "stdout",
          "text": [
            "jesw\n"
          ]
        }
      ]
    },
    {
      "cell_type": "code",
      "source": [
        "print(b[3:])"
      ],
      "metadata": {
        "colab": {
          "base_uri": "https://localhost:8080/"
        },
        "id": "VjC5oeACVEDR",
        "outputId": "54b579b8-22c5-4ce0-bf6f-ee94c25ca706"
      },
      "execution_count": 46,
      "outputs": [
        {
          "output_type": "stream",
          "name": "stdout",
          "text": [
            "win\n"
          ]
        }
      ]
    },
    {
      "cell_type": "code",
      "source": [
        "a=\"Jeswin Thomas Angadiparambil Vadayar\"\n",
        "print(a[0:6])\n",
        "print(a[6:13])\n",
        "print(a[13:28])\n",
        "print(a[28:])"
      ],
      "metadata": {
        "colab": {
          "base_uri": "https://localhost:8080/"
        },
        "id": "0jjUOs2AVIw-",
        "outputId": "4546ecf4-6967-4a9d-ba06-3999f4c3bdd7"
      },
      "execution_count": 56,
      "outputs": [
        {
          "output_type": "stream",
          "name": "stdout",
          "text": [
            "Jeswin\n",
            " Thomas\n",
            " Angadiparambil\n",
            " Vadayar\n"
          ]
        }
      ]
    },
    {
      "cell_type": "code",
      "source": [
        "print(a.upper())"
      ],
      "metadata": {
        "colab": {
          "base_uri": "https://localhost:8080/"
        },
        "id": "oPMVJS7SV9cw",
        "outputId": "c17957df-5440-4359-b611-d08c3426b8af"
      },
      "execution_count": 57,
      "outputs": [
        {
          "output_type": "stream",
          "name": "stdout",
          "text": [
            "JESWIN THOMAS ANGADIPARAMBIL VADAYAR\n"
          ]
        }
      ]
    },
    {
      "cell_type": "code",
      "source": [
        "print(a.replace(\"s\",\"z\"))"
      ],
      "metadata": {
        "colab": {
          "base_uri": "https://localhost:8080/"
        },
        "id": "mvNqKmDSXTOY",
        "outputId": "ec518b8d-f002-422a-e7a4-763409118ad7"
      },
      "execution_count": 58,
      "outputs": [
        {
          "output_type": "stream",
          "name": "stdout",
          "text": [
            "Jezwin Thomaz Angadiparambil Vadayar\n"
          ]
        }
      ]
    },
    {
      "cell_type": "code",
      "source": [
        "print(a.lower())"
      ],
      "metadata": {
        "colab": {
          "base_uri": "https://localhost:8080/"
        },
        "id": "icpERrt5X-dK",
        "outputId": "209f3f71-1cdc-4e50-c097-e339ddef0d68"
      },
      "execution_count": 59,
      "outputs": [
        {
          "output_type": "stream",
          "name": "stdout",
          "text": [
            "jeswin thomas angadiparambil vadayar\n"
          ]
        }
      ]
    },
    {
      "cell_type": "code",
      "source": [
        "print(a.split(\" \"))"
      ],
      "metadata": {
        "colab": {
          "base_uri": "https://localhost:8080/"
        },
        "id": "UOxXi5RmYpi9",
        "outputId": "c351eff7-2d6d-461f-9edb-dea0521709ee"
      },
      "execution_count": 61,
      "outputs": [
        {
          "output_type": "stream",
          "name": "stdout",
          "text": [
            "['Jeswin', 'Thomas', 'Angadiparambil', 'Vadayar']\n"
          ]
        }
      ]
    },
    {
      "cell_type": "code",
      "source": [
        "print(a.strip())"
      ],
      "metadata": {
        "colab": {
          "base_uri": "https://localhost:8080/"
        },
        "id": "XLz3PvZuYtPF",
        "outputId": "2d77be41-c1e2-46fc-9c3f-91cf1c23f991"
      },
      "execution_count": 62,
      "outputs": [
        {
          "output_type": "stream",
          "name": "stdout",
          "text": [
            "Jeswin Thomas Angadiparambil Vadayar\n"
          ]
        }
      ]
    },
    {
      "cell_type": "code",
      "source": [
        "print(a.capitalize())"
      ],
      "metadata": {
        "colab": {
          "base_uri": "https://localhost:8080/"
        },
        "id": "MjbQDcI0Y6P-",
        "outputId": "15701785-8fd9-46b3-ef93-2fc72ed3e52c"
      },
      "execution_count": 63,
      "outputs": [
        {
          "output_type": "stream",
          "name": "stdout",
          "text": [
            "Jeswin thomas angadiparambil vadayar\n"
          ]
        }
      ]
    },
    {
      "cell_type": "code",
      "source": [
        "print(a.index(\"s\"))"
      ],
      "metadata": {
        "colab": {
          "base_uri": "https://localhost:8080/"
        },
        "id": "5CWmzpRxY_Dk",
        "outputId": "3d0472cd-6b81-405d-f1d2-849eb59f0334"
      },
      "execution_count": 65,
      "outputs": [
        {
          "output_type": "stream",
          "name": "stdout",
          "text": [
            "2\n"
          ]
        }
      ]
    },
    {
      "cell_type": "code",
      "source": [
        "print(a.startswith(\"Jeswin\"))"
      ],
      "metadata": {
        "colab": {
          "base_uri": "https://localhost:8080/"
        },
        "id": "4ldg0na6ZTqL",
        "outputId": "d1c4a9c8-1555-4a1c-b330-eebd36c41314"
      },
      "execution_count": 68,
      "outputs": [
        {
          "output_type": "stream",
          "name": "stdout",
          "text": [
            "True\n"
          ]
        }
      ]
    },
    {
      "cell_type": "code",
      "source": [
        "s=\"hello, welcome to python\"\n",
        "y=s.startswith(\"wel\",3,10)\n",
        "print(y)"
      ],
      "metadata": {
        "colab": {
          "base_uri": "https://localhost:8080/"
        },
        "id": "kZTWLbODbmRr",
        "outputId": "b301e138-aa11-4123-ef90-02d117fcc9c6"
      },
      "execution_count": 73,
      "outputs": [
        {
          "output_type": "stream",
          "name": "stdout",
          "text": [
            "False\n"
          ]
        }
      ]
    },
    {
      "cell_type": "code",
      "source": [
        "y=s.partition(\"with\")\n",
        "print(y)"
      ],
      "metadata": {
        "colab": {
          "base_uri": "https://localhost:8080/"
        },
        "id": "d_CYlaTscvro",
        "outputId": "6f5f0697-b90d-47df-aace-81ffca29c6ef"
      },
      "execution_count": 74,
      "outputs": [
        {
          "output_type": "stream",
          "name": "stdout",
          "text": [
            "('hello, welcome to python', '', '')\n"
          ]
        }
      ]
    },
    {
      "cell_type": "code",
      "source": [],
      "metadata": {
        "id": "71uyT_QzdQHQ"
      },
      "execution_count": null,
      "outputs": []
    }
  ]
}